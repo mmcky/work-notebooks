{
 "metadata": {
  "name": "",
  "signature": "sha256:e9475a2d5e281d568aeee9d8e25015dfed5120637923575480471b763dd29ecd"
 },
 "nbformat": 3,
 "nbformat_minor": 0,
 "worksheets": [
  {
   "cells": [
    {
     "cell_type": "markdown",
     "metadata": {},
     "source": [
      "Ricardian Trade Model\n",
      "=====================\n",
      "\n",
      "This notebook explores the Ricardian 2 x 2 x 1 Model. \n",
      "\n",
      "  - 2 x Countries\n",
      "  - 2 x Products\n",
      "  - 1 x Factor (Labour)\n",
      "  \n",
      "This model is the most primitive model required to explore the concept of Comparative Advantage. In this setting countries are identical except for access to production technology, typically thought of as labour productivity. \n",
      "\n",
      "Assumptions\n",
      "-----------\n",
      "  - Full Employment\n",
      "  - Homogenous Labour (i.e. can move freely between products)\n",
      "  - Labour is immobile between countries"
     ]
    },
    {
     "cell_type": "code",
     "collapsed": false,
     "input": [
      "from __future__ import division"
     ],
     "language": "python",
     "metadata": {},
     "outputs": [],
     "prompt_number": 3
    },
    {
     "cell_type": "markdown",
     "metadata": {},
     "source": [
      "Model\n",
      "-----\n",
      "\n",
      "Python is a high level language which provides the infrastructure to build object oriented code. An OO approach is particularly useful in this context as it produces code that is organised according to their respective function. Let us build some Python objects to represent each element of this model. \n",
      "   \n",
      "  - A Country Class\n",
      "  - A Trade System Class to compute the interactions between countries\n",
      "\n"
     ]
    },
    {
     "cell_type": "markdown",
     "metadata": {},
     "source": [
      "Modeling the Country\n",
      "--------------------"
     ]
    },
    {
     "cell_type": "code",
     "collapsed": false,
     "input": [
      "class Country(object):\n",
      "    \"\"\"\n",
      "    An object that represents a Country\n",
      "\n",
      "    Parameters\n",
      "    ----------\n",
      "    name            :   str\n",
      "                        Provide a country name\n",
      "    products        :   Tuple(str, str)\n",
      "                        Provide Product Names\n",
      "    technology      :   Tuple(float, float)\n",
      "                        Provide Technology/Productivity values where position equals product position\n",
      "    \"\"\"\n",
      "    def __init__(self, name, products, technology):\n",
      "        self.name = name\n",
      "        self.products = products\n",
      "        self.technology = technology\n",
      "        self.exchange_rate = self.technology[0] / self.technology[1]\n",
      "        #-Internal State Variables-#\n",
      "        self.__output = (0,0)\n",
      "        \n",
      "    def __str__(self):\n",
      "        try:\n",
      "            units = self.units\n",
      "        except:\n",
      "            units = (\"Unit of %s\"%self.products[0], \"Unit of %s\"%self.products[1])\n",
      "            self.units = units\n",
      "        return \"%s (%s - %s (Units of Labour/%s); %s - %s (Units of Labour/%s))\" % (self.name, self.products[0], self.technology[0], units[0], self.products[1], self.technology[1], units[1])\n",
      "\n",
      "    @property\n",
      "    def output(self):\n",
      "        return self.__output\n",
      "    @output.setter\n",
      "    def output(self, value):\n",
      "        self.__output = value\n",
      "    \n",
      "    @property\n",
      "    def print_output(self):\n",
      "        print \"%s: %s = %s; %s = %s\" % (self.name, self.products[0], self.__output[0], self.products[1], self.__output[1])\n",
      "    \n",
      "    def set_units(self, units):\n",
      "        \"\"\" \n",
      "        Set Units of Products\n",
      "        \n",
      "        Parameters\n",
      "        ----------\n",
      "        units  :  tuple(str, str)\n",
      "                  Set Units of Product 1 and Product 2\n",
      "        \"\"\"\n",
      "        self.units = units\n",
      "        \n",
      "    def difference_output(self, product, difference):\n",
      "        \"\"\" \n",
      "        Provide a difference to the output of a given product\n",
      "        \n",
      "        Parameters\n",
      "        ----------\n",
      "        product      :  int\n",
      "                        Provide Product ID 0, 1\n",
      "        difference   :  numeric\n",
      "                        Provide Difference in Output for the Product\n",
      "\n",
      "        \"\"\" \n",
      "        if product == 0:\n",
      "            q0 = self.__output[0] + difference\n",
      "            q1 = self.__output[1] + -1 * difference * self.exchange_rate\n",
      "            self.__output = (q0, q1)\n",
      "        if product == 1:\n",
      "            q0 = self.__output[0] + -1 * difference * 1 / self.exchange_rate\n",
      "            q1 = self.__output[1] + difference\n",
      "            self.__output = (q0, q1)"
     ],
     "language": "python",
     "metadata": {},
     "outputs": [],
     "prompt_number": 4
    },
    {
     "cell_type": "code",
     "collapsed": false,
     "input": [
      "england = Country(name=\"England\", products=('Wine', 'Cloth'), technology=(120, 100))\n",
      "print england\n",
      "portugal = Country(name=\"Portugal\", products=('Wine', 'Cloth'), technology=(80, 90))\n",
      "print portugal"
     ],
     "language": "python",
     "metadata": {},
     "outputs": [
      {
       "output_type": "stream",
       "stream": "stdout",
       "text": [
        "England (Wine - 120 (Units of Labour/Unit of Wine); Cloth - 100 (Units of Labour/Unit of Cloth))\n",
        "Portugal (Wine - 80 (Units of Labour/Unit of Wine); Cloth - 90 (Units of Labour/Unit of Cloth))\n"
       ]
      }
     ],
     "prompt_number": 20
    },
    {
     "cell_type": "markdown",
     "metadata": {},
     "source": [
      "Let us first have a look at some some simple scenario based observations\n",
      "\n",
      "Scenario 1: No Trade, Internal Reallocation\n",
      "--------------------------------------------\n",
      "\n",
      "Let us now consider a manual change in production for England and Portugal. Remember we have assumed full employment of labour, and homogenous labour that has the ability to move freely from wine production to cloth production. Therefore any reduction in the production of one good must increase the production in the other good - as labour is released and re-hired due to full employment. \n"
     ]
    },
    {
     "cell_type": "code",
     "collapsed": false,
     "input": [
      "#-Initial Values-#\n",
      "england.print_output\n",
      "portugal.print_output"
     ],
     "language": "python",
     "metadata": {},
     "outputs": [
      {
       "output_type": "stream",
       "stream": "stdout",
       "text": [
        "England: Wine = 0; Cloth = 0\n",
        "Portugal: Wine = 0; Cloth = 0\n"
       ]
      }
     ],
     "prompt_number": 21
    },
    {
     "cell_type": "code",
     "collapsed": false,
     "input": [
      "#-Change Englands' Production by reducing Wine (Product 0) by 5 units-#\n",
      "england.difference_output(0,-5)\n",
      "england.print_output"
     ],
     "language": "python",
     "metadata": {},
     "outputs": [
      {
       "output_type": "stream",
       "stream": "stdout",
       "text": [
        "England: Wine = -5; Cloth = 6.0\n"
       ]
      }
     ],
     "prompt_number": 16
    },
    {
     "cell_type": "markdown",
     "metadata": {},
     "source": [
      "As you can observe, **reducing** wine production by 5 units, **increases** cloth production by 6 units. This is becuase when wine production is reduced labour is released. It takes 120 Units of Labour to make unit of wine. Therefore $120*5=600$ units of labour (i.e. Hours) are released. Due to the full employment assumption, this labour finds employment in the cloth making industry and therefore, as it requires 100 hours to produce cloth, cloth production increases by $600/100=6$ units. "
     ]
    },
    {
     "cell_type": "markdown",
     "metadata": {},
     "source": [
      "The internal exchange rate represents the **opportunity cost** of wine in terms of cloth. For each unit of wine, England could instead produce 1.2 units of cloth. "
     ]
    },
    {
     "cell_type": "code",
     "collapsed": false,
     "input": [
      "print \"Exchange rate = %s\" % england.exchange_rate"
     ],
     "language": "python",
     "metadata": {},
     "outputs": [
      {
       "output_type": "stream",
       "stream": "stdout",
       "text": [
        "Exchange rate = 1.2\n"
       ]
      }
     ],
     "prompt_number": 23
    },
    {
     "cell_type": "code",
     "collapsed": false,
     "input": [
      "#-Change Portugals' Production by reducing Wine Production (Product 0) by 5 units-#\n",
      "portugal.difference_output(0, -5)\n",
      "portugal.print_output"
     ],
     "language": "python",
     "metadata": {},
     "outputs": [
      {
       "output_type": "stream",
       "stream": "stdout",
       "text": [
        "Portugal: Wine = -5; Cloth = 4.44444444444\n"
       ]
      }
     ],
     "prompt_number": 24
    },
    {
     "cell_type": "markdown",
     "metadata": {},
     "source": [
      "In Portugal, **reducing** wine production by 5 units, **increases** cloth production by 4.44 units. This is due to the different internal opportunity cost (domestic exchange rate). Labour is immobile between countries. "
     ]
    },
    {
     "cell_type": "markdown",
     "metadata": {},
     "source": [
      "The **opportunity cost** of producing wine in terms of cloth is now 0.88. For each unit of wine, portugal could instead product 0.88 units of cloth. "
     ]
    },
    {
     "cell_type": "code",
     "collapsed": false,
     "input": [
      "print \"Exchange rate = %s\" % portugal.exchange_rate"
     ],
     "language": "python",
     "metadata": {},
     "outputs": [
      {
       "output_type": "stream",
       "stream": "stdout",
       "text": [
        "Exchange rate = 0.888888888889\n"
       ]
      }
     ],
     "prompt_number": 26
    },
    {
     "cell_type": "markdown",
     "metadata": {},
     "source": [
      "TradeSystem\n",
      "===========\n",
      "\n",
      "Now we need a simple trade system object to compute items such as:\n",
      "\n",
      "  - Global Production\n",
      "  - Comparative Advantage\n",
      "  - Absolute Advantage\n",
      "  - Trade Equilibrium\n",
      "  \n",
      "Let us start by simply modelling the aggregation of properties of two countries and checking for relative opportunity costs in the determination of comparative advantage"
     ]
    },
    {
     "cell_type": "code",
     "collapsed": false,
     "input": [
      "class TradeSystem2x2x1(object):\n",
      "    \"\"\"\n",
      "    Constructs a 2x2x1 trading system of countries to compute various global values\n",
      "    \"\"\"\n",
      "    def __init__(self, countries):\n",
      "        self.countries = []\n",
      "        for country in countries:\n",
      "            print \"Adding: %s\" % country.name\n",
      "            self.countries.append(country.name)\n",
      "            #-Set Each Country as an Attribute-#\n",
      "            setattr(self, country.name, country)\n",
      "        #-For Now Take Products from Either Country - Assuming the Same-#\n",
      "        self.products = country.products\n",
      "\n",
      "    def __str__(self):\n",
      "        global_output = self.output\n",
      "        return \"2x2x1 TradeSystem (Wine: %s; Cloth: %s)\" % (global_output)\n",
      "\n",
      "    @property \n",
      "    def output(self):\n",
      "        output = []\n",
      "        for country in self.countries: \n",
      "            output.append(getattr(self, country).output)\n",
      "        q1 = output[0][0] + output[1][0]\n",
      "        q2 = output[0][1] + output[1][1]\n",
      "        return (q1,q2)\n",
      "    \n",
      "    @property\n",
      "    def comparative_advantage(self):\n",
      "        countries = sorted(self.countries)\n",
      "        ex1 = getattr(self, countries[0]).exchange_rate    #Exchange Rate = Wine / Cloth\n",
      "        ex2 = getattr(self, countries[1]).exchange_rate\n",
      "        if ex1 > ex2:\n",
      "            print \"%s has a Comparative Advantage in %s\" % (countries[0], self.products[1])\n",
      "            print \"%s has a Comparative Advantage in %s\" % (countries[1], self.products[0])\n",
      "        else:\n",
      "            print \"%s has a Comparative Advantage in %s\" % (countries[1], self.products[0])\n",
      "            print \"%s has a Comparative Advantage in %s\" % (countries[0], self.products[1])"
     ],
     "language": "python",
     "metadata": {},
     "outputs": [],
     "prompt_number": 99
    },
    {
     "cell_type": "markdown",
     "metadata": {},
     "source": [
      "Scenario 2: Reallocation in line with Comparative Advantage\n",
      "------------------------------------------------------------\n",
      "\n",
      "Reallocating production nationally can produce global gains as long as countries trade in line with their comparative advantage.\n"
     ]
    },
    {
     "cell_type": "code",
     "collapsed": false,
     "input": [
      "#-Define a System-#\n",
      "england = Country(name=\"England\", products=('Wine', 'Cloth'), technology=(120, 100))\n",
      "portugal = Country(name=\"Portugal\", products=('Wine', 'Cloth'), technology=(80, 90))\n",
      "system = TradeSystem2x2x1(countries=[england, portugal])"
     ],
     "language": "python",
     "metadata": {},
     "outputs": [
      {
       "output_type": "stream",
       "stream": "stdout",
       "text": [
        "Adding: England\n",
        "Adding: Portugal\n"
       ]
      }
     ],
     "prompt_number": 100
    },
    {
     "cell_type": "markdown",
     "metadata": {},
     "source": [
      "Let us assume that England and Portugal coordinate and decide to keep the global production of cloth fixed. \n",
      "\n",
      "  - England increases production of Cloth by 6 (Foregoing 5 units of Wine), while\n",
      "  - Portugal decrease production of Cloth by 6 (Increasing the production of wine by 6.75 units)\n",
      "\n",
      "Now both the `england` object and `portugal` object have been based to the `TradeSystem` object called `system`."
     ]
    },
    {
     "cell_type": "code",
     "collapsed": false,
     "input": [
      "england.difference_output(1,6)\n",
      "england.print_output\n",
      "portugal.difference_output(1,-6)\n",
      "portugal.print_output\n",
      "print system"
     ],
     "language": "python",
     "metadata": {},
     "outputs": [
      {
       "output_type": "stream",
       "stream": "stdout",
       "text": [
        "England: Wine = -5.0; Cloth = 6\n",
        "Portugal: Wine = 6.75; Cloth = -6\n",
        "2x2x1 TradeSystem (Wine: 1.75; Cloth: 0)\n"
       ]
      }
     ],
     "prompt_number": 101
    },
    {
     "cell_type": "markdown",
     "metadata": {},
     "source": [
      "If England decides to **increase** their production of cloth, while portugal decides to **decrease** their production of cloth by the same amount; then global production of wine **increases on net** between the two by 1.75 units. More of Good `0` is now available globally. Therefore, England can provide cloth in exchange for wine and both countries could achieve a better outcome. This reoganization of production under general equilbrium is what underlies the **theory of comparative advantage**"
     ]
    },
    {
     "cell_type": "code",
     "collapsed": false,
     "input": [
      "system.comparative_advantage"
     ],
     "language": "python",
     "metadata": {},
     "outputs": [
      {
       "output_type": "stream",
       "stream": "stdout",
       "text": [
        "England has a Comparative Advantage in Cloth\n",
        "Portugal has a Comparative Advantage in Wine\n"
       ]
      }
     ],
     "prompt_number": 102
    },
    {
     "cell_type": "markdown",
     "metadata": {},
     "source": [
      "Scenario 3: Reallocation NOT in line with comparative advantage\n",
      "----------------------------------------------------------------\n",
      "\n",
      "Reallocating production nationally can also produce global losses (**not** inline with Comparative Advantage) in production. \n"
     ]
    },
    {
     "cell_type": "code",
     "collapsed": false,
     "input": [
      "#-Define a System-#\n",
      "england = Country(name=\"England\", products=('Wine', 'Cloth'), technology=(120, 100))\n",
      "portugal = Country(name=\"Portugal\", products=('Wine', 'Cloth'), technology=(80, 90))\n",
      "system = TradeSystem2x2x1(countries=[england, portugal])"
     ],
     "language": "python",
     "metadata": {},
     "outputs": [
      {
       "output_type": "stream",
       "stream": "stdout",
       "text": [
        "Adding: England\n",
        "Adding: Portugal\n"
       ]
      }
     ],
     "prompt_number": 103
    },
    {
     "cell_type": "markdown",
     "metadata": {},
     "source": [
      "Let us now assume that England and Portugal coordinate and decide to keep the production of cloth fixed but this time take the opposite decisions as in Scenario 2 above.\n",
      "\n",
      "  - England decreases production of Cloth by 6 (Increase the production of wine by 5 units of Wine)\n",
      "  - Portugal increases production of Cloth by 6 (Decrease the production of wine by 6.75 units)"
     ]
    },
    {
     "cell_type": "code",
     "collapsed": false,
     "input": [
      "england.difference_output(1,-6)\n",
      "england.print_output\n",
      "portugal.difference_output(1, 6)\n",
      "portugal.print_output\n",
      "print system"
     ],
     "language": "python",
     "metadata": {},
     "outputs": [
      {
       "output_type": "stream",
       "stream": "stdout",
       "text": [
        "England: Wine = 5.0; Cloth = -6\n",
        "Portugal: Wine = -6.75; Cloth = 6\n",
        "2x2x1 TradeSystem (Wine: -1.75; Cloth: 0)\n"
       ]
      }
     ],
     "prompt_number": 104
    },
    {
     "cell_type": "markdown",
     "metadata": {},
     "source": [
      "If England decides to **decrease** their production of cloth, while portugal decides to **increase** their production of cloth by the same amount; then global production of wine **decreases on net** between the two by 1.75 units. In this case, countries are **not** trading inline with comparative advantage and therefore the global trading system experiences losses in global output.  "
     ]
    },
    {
     "cell_type": "markdown",
     "metadata": {},
     "source": [
      "Scenario 4: Check a change in Ratio's\n",
      "--------------------------------------\n",
      "\n",
      "You may think it is because Englands' internal **opportunity cost** is larger than 1 while Portugals' **opportunity cost** is less than 1. This intuition is not right. It is the global reoganisation of production which produces the gains and therefore the relative opportunity costs are what determine comparative advantage. \n",
      "\n",
      "As long as:\n",
      "\n",
      "${EX}_{England} > {EX}_{Portugal}$\n",
      "\n",
      "where\n",
      "\n",
      "$EX_{England} = \\frac{EnglandProductivity_{wine}}{EnglandProductivity_{cloth}}$\n",
      "\n",
      "$EX_{Portugal} = \\frac{PortugalProductivity_{wine}}{PortugalProductivity_{cloth}}$\n",
      "\n",
      "then England has a **comparative advantage** in the production of cloth, and Portugal has a **comparative advantage** in the production of wine."
     ]
    },
    {
     "cell_type": "code",
     "collapsed": false,
     "input": [
      "#-Define a System-#\n",
      "england = Country(name=\"England\", products=('Wine', 'Cloth'), technology=(120, 100))\n",
      "portugal = Country(name=\"Portugal\", products=('Wine', 'Cloth'), technology=(90, 80))\n",
      "system = TradeSystem2x2x1(countries=[england, portugal])"
     ],
     "language": "python",
     "metadata": {},
     "outputs": [
      {
       "output_type": "stream",
       "stream": "stdout",
       "text": [
        "Adding: England\n",
        "Adding: Portugal\n"
       ]
      }
     ],
     "prompt_number": 111
    },
    {
     "cell_type": "code",
     "collapsed": false,
     "input": [
      "england.difference_output(1,6)\n",
      "england.print_output\n",
      "portugal.difference_output(1,-6)\n",
      "portugal.print_output\n",
      "print system"
     ],
     "language": "python",
     "metadata": {},
     "outputs": [
      {
       "output_type": "stream",
       "stream": "stdout",
       "text": [
        "England: Wine = -5.0; Cloth = 6\n",
        "Portugal: Wine = 5.33333333333; Cloth = -6\n",
        "2x2x1 TradeSystem (Wine: 0.333333333333; Cloth: 0)\n"
       ]
      }
     ],
     "prompt_number": 112
    },
    {
     "cell_type": "code",
     "collapsed": false,
     "input": [
      "system.comparative_advantage"
     ],
     "language": "python",
     "metadata": {},
     "outputs": [
      {
       "output_type": "stream",
       "stream": "stdout",
       "text": [
        "England has a Comparative Advantage in Cloth\n",
        "Portugal has a Comparative Advantage in Wine\n"
       ]
      }
     ],
     "prompt_number": 113
    },
    {
     "cell_type": "code",
     "collapsed": false,
     "input": [
      "england.exchange_rate"
     ],
     "language": "python",
     "metadata": {},
     "outputs": [
      {
       "metadata": {},
       "output_type": "pyout",
       "prompt_number": 114,
       "text": [
        "1.2"
       ]
      }
     ],
     "prompt_number": 114
    },
    {
     "cell_type": "code",
     "collapsed": false,
     "input": [
      "portugal.exchange_rate"
     ],
     "language": "python",
     "metadata": {},
     "outputs": [
      {
       "metadata": {},
       "output_type": "pyout",
       "prompt_number": 115,
       "text": [
        "1.125"
       ]
      }
     ],
     "prompt_number": 115
    },
    {
     "cell_type": "markdown",
     "metadata": {},
     "source": [
      "The fundamental driving force in Ricardian models is differences in technology (or productivity). However the only condition for trade to occur is a difference in **relative opportunity cost** and gains from trade can be aquired even when the trading partner has better technology in both goods (i.e. has an absolute advantage) relative to another. \n",
      "\n",
      "Of course the trivial case is when both countries have identical internal opportunity costs and therefore there are no motivations driving trade. Other models incorporating Increasing Returns to Scale (IRS) however can motivate trade without these fundamental differences in technology. "
     ]
    },
    {
     "cell_type": "markdown",
     "metadata": {},
     "source": [
      "The direction, or pattern, of trade which is determined by **comparative advantage** ensures improvements in global output and provides a powerful underlying force in shapping global production. More advanced models of trade incorporate features that allow for the investigations in many diferrent considerations including but not limited to:\n",
      "\n",
      "  - Distributional Gians from Trade\n",
      "  - Unequal country sizes and their effects on markets\n",
      "  - Imperfect Markets\n",
      "  - ... \n",
      "  \n",
      "Let us improve on this analysis by considering a resource constraint (Labour Supply). "
     ]
    },
    {
     "cell_type": "markdown",
     "metadata": {},
     "source": [
      "Extension 1: Add Labour Endowments to Economies\n",
      "===============================================\n",
      "\n",
      "We can alter this model by updating the `Country` class to include endowments of Labour (which imposes a resource constraint) allowing for a more full characterisations of a Country. We can then adapt the `TradeSystem2x2x1` class to incorporate optimal trade solutions which maximise global trade (both through an analytical solution and a numerical search based solution)\n"
     ]
    },
    {
     "cell_type": "code",
     "collapsed": false,
     "input": [],
     "language": "python",
     "metadata": {},
     "outputs": []
    },
    {
     "cell_type": "code",
     "collapsed": false,
     "input": [],
     "language": "python",
     "metadata": {},
     "outputs": []
    },
    {
     "cell_type": "markdown",
     "metadata": {},
     "source": [
      "The Ricardian Model\n",
      "===================\n",
      "\n",
      "The Ricardian model describes a static equilibrium and therefore assumes that the supply of resources in the economy is inelastic and that tastes and technology do not change. \n",
      "\n",
      "Assumptions\n",
      "-----------\n",
      "\n",
      "  - Two Countries (\"Home\" and \"Foreign\" denoted with *)\n",
      "  - Two Final Products (Good 1 and Good 2)\n",
      "  - Each Good uses Labour as the only factor in production. Labour is homogenous in quality and capability. \n",
      "  - Labour is inelastically supplied in each country\n",
      "  - Labour is perfectly mobile within countries but not between countries\n",
      "  - Constant Labour requirements per unit of output ($a_j$ and $a_j^*$). Constant Returns to Scale\n",
      "  - Technologies differ between countries ($a_j \\ne a_j^*$ where $j=1,2$)\n",
      "  - No transportation costs, No Trade Barriers, Free Trade\n",
      "  - Competative factor and product markets\n",
      "  \n",
      "Supply Side (Production)\n",
      "------------------------\n",
      "\n",
      "Define relative price $p=\\frac{p_2}{p_1}$ of the second good in terms of the first. Let the production function of the jth industry be $q_j = \\frac{1}{a_j}L_j$ where {j=1,2}. \n",
      "\n",
      "\n",
      "Demand Side (Tastes and Preferences)\n",
      "------------------------------------"
     ]
    },
    {
     "cell_type": "code",
     "collapsed": false,
     "input": [],
     "language": "python",
     "metadata": {},
     "outputs": []
    },
    {
     "cell_type": "markdown",
     "metadata": {},
     "source": [
      "Extensions\n",
      "==========\n",
      "\n",
      "Eaton, Kortum (2002) - EK Model with Many Countries and Many Products"
     ]
    },
    {
     "cell_type": "code",
     "collapsed": false,
     "input": [],
     "language": "python",
     "metadata": {},
     "outputs": []
    }
   ],
   "metadata": {}
  }
 ]
}