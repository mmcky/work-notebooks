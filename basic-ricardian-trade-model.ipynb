{
 "cells": [
  {
   "cell_type": "markdown",
   "metadata": {},
   "source": [
    "Ricardian Trade Model\n",
    "=====================\n",
    "\n",
    "This notebook explores the Ricardian 2 x 2 x 1 Model. \n",
    "\n",
    "  - 2 x Countries\n",
    "  - 2 x Products\n",
    "  - 1 x Factor (Labour)\n",
    "  \n",
    "This model is the most basic model required to explore the concept of Comparative Advantage. In this setting countries are identical except for production technology, typically thought of as labour productivity (given one factor). \n",
    "\n",
    "Assumptions\n",
    "-----------\n",
    "  - Full Employment\n",
    "  - Homogenous Labour (i.e. can move freely between products)\n",
    "  - Labour is immobile between countries"
   ]
  },
  {
   "cell_type": "code",
   "execution_count": 33,
   "metadata": {
    "collapsed": false
   },
   "outputs": [],
   "source": [
    "from __future__ import division"
   ]
  },
  {
   "cell_type": "markdown",
   "metadata": {},
   "source": [
    "Model\n",
    "-----\n",
    "\n",
    "Python is a high level language which provides the infrastructure to build object oriented code. An OO approach is particularly useful in this context as it produces code that is organised according to their respective function. Let us build some Python objects to represent each element of this model. \n",
    "   \n",
    "  - A Country Class\n",
    "  - A Trade System Class to compute the interactions between countries\n",
    "\n"
   ]
  },
  {
   "cell_type": "markdown",
   "metadata": {},
   "source": [
    "Modeling the Country\n",
    "--------------------"
   ]
  },
  {
   "cell_type": "code",
   "execution_count": 4,
   "metadata": {
    "collapsed": false
   },
   "outputs": [],
   "source": [
    "class Country(object):\n",
    "    \"\"\"\n",
    "    An object that represents a Country\n",
    "\n",
    "    Parameters\n",
    "    ----------\n",
    "    name            :   str\n",
    "                        Provide a country name\n",
    "    products        :   Tuple(str, str)\n",
    "                        Provide Product Names\n",
    "    technology      :   Tuple(float, float)\n",
    "                        Provide Technology/Productivity values where position equals product position\n",
    "    \"\"\"\n",
    "    def __init__(self, name, products, technology):\n",
    "        self.name = name\n",
    "        self.products = products\n",
    "        self.technology = technology\n",
    "        self.exchange_rate = self.technology[0] / self.technology[1]\n",
    "        #-Internal State Variables-#\n",
    "        self.__output = (0,0)\n",
    "        \n",
    "    def __str__(self):\n",
    "        try:\n",
    "            units = self.units\n",
    "        except:\n",
    "            units = (\"Unit of %s\"%self.products[0], \"Unit of %s\"%self.products[1])\n",
    "            self.units = units\n",
    "        return \"%s (%s - %s (Units of Labour/%s); %s - %s (Units of Labour/%s))\" % (self.name, self.products[0], self.technology[0], units[0], self.products[1], self.technology[1], units[1])\n",
    "\n",
    "    @property\n",
    "    def output(self):\n",
    "        return self.__output\n",
    "    @output.setter\n",
    "    def output(self, value):\n",
    "        self.__output = value\n",
    "    \n",
    "    @property\n",
    "    def print_output(self):\n",
    "        print \"%s: %s = %s; %s = %s\" % (self.name, self.products[0], self.__output[0], self.products[1], self.__output[1])\n",
    "    \n",
    "    def set_units(self, units):\n",
    "        \"\"\" \n",
    "        Set Units of Products\n",
    "        \n",
    "        Parameters\n",
    "        ----------\n",
    "        units  :  tuple(str, str)\n",
    "                  Set Units of Product 1 and Product 2\n",
    "        \"\"\"\n",
    "        self.units = units\n",
    "        \n",
    "    def difference_output(self, product, difference):\n",
    "        \"\"\" \n",
    "        Provide a difference to the output of a given product\n",
    "        \n",
    "        Parameters\n",
    "        ----------\n",
    "        product      :  int\n",
    "                        Provide Product ID 0, 1\n",
    "        difference   :  numeric\n",
    "                        Provide Difference in Output for the Product\n",
    "\n",
    "        \"\"\" \n",
    "        if product == 0:\n",
    "            q0 = self.__output[0] + difference\n",
    "            q1 = self.__output[1] + -1 * difference * self.exchange_rate\n",
    "            self.__output = (q0, q1)\n",
    "        if product == 1:\n",
    "            q0 = self.__output[0] + -1 * difference * 1 / self.exchange_rate\n",
    "            q1 = self.__output[1] + difference\n",
    "            self.__output = (q0, q1)"
   ]
  },
  {
   "cell_type": "code",
   "execution_count": 20,
   "metadata": {
    "collapsed": false
   },
   "outputs": [
    {
     "name": "stdout",
     "output_type": "stream",
     "text": [
      "England (Wine - 120 (Units of Labour/Unit of Wine); Cloth - 100 (Units of Labour/Unit of Cloth))\n",
      "Portugal (Wine - 80 (Units of Labour/Unit of Wine); Cloth - 90 (Units of Labour/Unit of Cloth))\n"
     ]
    }
   ],
   "source": [
    "england = Country(name=\"England\", products=('Wine', 'Cloth'), technology=(120, 100))\n",
    "print england\n",
    "portugal = Country(name=\"Portugal\", products=('Wine', 'Cloth'), technology=(80, 90))\n",
    "print portugal"
   ]
  },
  {
   "cell_type": "markdown",
   "metadata": {},
   "source": [
    "Let us first have a look at some some simple scenario based observations\n",
    "\n",
    "Scenario 1: No Trade, Internal Reallocation\n",
    "--------------------------------------------\n",
    "\n",
    "Let us now consider a manual change in production for England and Portugal. Remember we have assumed full employment of labour, and homogenous labour that has the ability to move freely from wine production to cloth production. Therefore any reduction in the production of one good must increase the production in the other good - as labour is released and re-hired due to full employment. \n"
   ]
  },
  {
   "cell_type": "code",
   "execution_count": 21,
   "metadata": {
    "collapsed": false
   },
   "outputs": [
    {
     "name": "stdout",
     "output_type": "stream",
     "text": [
      "England: Wine = 0; Cloth = 0\n",
      "Portugal: Wine = 0; Cloth = 0\n"
     ]
    }
   ],
   "source": [
    "#-Initial Values-#\n",
    "england.print_output\n",
    "portugal.print_output"
   ]
  },
  {
   "cell_type": "code",
   "execution_count": 16,
   "metadata": {
    "collapsed": false
   },
   "outputs": [
    {
     "name": "stdout",
     "output_type": "stream",
     "text": [
      "England: Wine = -5; Cloth = 6.0\n"
     ]
    }
   ],
   "source": [
    "#-Change Englands' Production by reducing Wine (Product 0) by 5 units-#\n",
    "england.difference_output(0,-5)\n",
    "england.print_output"
   ]
  },
  {
   "cell_type": "markdown",
   "metadata": {},
   "source": [
    "As you can observe, **reducing** wine production by 5 units, **increases** cloth production by 6 units. This is becuase when wine production is reduced labour is released. It takes 120 Units of Labour to make 1 x unit of wine. Therefore $120*5=600$ units of labour (i.e. Hours) are released. Due to the full employment assumption, this labour finds employment in the cloth making industry and therefore, as it requires 100 hours to produce a unit of cloth, cloth production increases by $600/100=6$ units. "
   ]
  },
  {
   "cell_type": "markdown",
   "metadata": {},
   "source": [
    "The internal exchange rate represents the **opportunity cost** of wine in terms of cloth. For each unit of wine, England could instead produce 1.2 units of cloth. "
   ]
  },
  {
   "cell_type": "code",
   "execution_count": 23,
   "metadata": {
    "collapsed": false
   },
   "outputs": [
    {
     "name": "stdout",
     "output_type": "stream",
     "text": [
      "Exchange rate = 1.2\n"
     ]
    }
   ],
   "source": [
    "print \"Exchange rate = %s\" % england.exchange_rate"
   ]
  },
  {
   "cell_type": "code",
   "execution_count": 24,
   "metadata": {
    "collapsed": false
   },
   "outputs": [
    {
     "name": "stdout",
     "output_type": "stream",
     "text": [
      "Portugal: Wine = -5; Cloth = 4.44444444444\n"
     ]
    }
   ],
   "source": [
    "#-Change Portugals' Production by reducing Wine Production (Product 0) by 5 units-#\n",
    "portugal.difference_output(0, -5)\n",
    "portugal.print_output"
   ]
  },
  {
   "cell_type": "markdown",
   "metadata": {},
   "source": [
    "In Portugal, **reducing** wine production by 5 units, **increases** cloth production by 4.44 units. This is due to the different internal opportunity cost Portugal faces when compared to England. Labour is immobile between countries. "
   ]
  },
  {
   "cell_type": "markdown",
   "metadata": {},
   "source": [
    "The **opportunity cost** of producing wine in terms of cloth is now 0.88. For each unit of wine, portugal could instead product 0.88 units of cloth. "
   ]
  },
  {
   "cell_type": "code",
   "execution_count": 26,
   "metadata": {
    "collapsed": false
   },
   "outputs": [
    {
     "name": "stdout",
     "output_type": "stream",
     "text": [
      "Exchange rate = 0.888888888889\n"
     ]
    }
   ],
   "source": [
    "print \"Exchange rate = %s\" % portugal.exchange_rate"
   ]
  },
  {
   "cell_type": "markdown",
   "metadata": {},
   "source": [
    "TradeSystem\n",
    "===========\n",
    "\n",
    "Now we need a simple trade system object to compute items such as:\n",
    "\n",
    "  - Global Production\n",
    "  - Comparative Advantage\n",
    "  - Absolute Advantage\n",
    "  - Trade Equilibrium's\n",
    "  \n",
    "Let us start by simply modelling the aggregation of properties of two countries and checking for relative opportunity costs in the determination of comparative advantage"
   ]
  },
  {
   "cell_type": "code",
   "execution_count": 99,
   "metadata": {
    "collapsed": false
   },
   "outputs": [],
   "source": [
    "class TradeSystem2x2x1(object):\n",
    "    \"\"\"\n",
    "    Constructs a 2x2x1 trading system of countries to compute various global values\n",
    "    \"\"\"\n",
    "    def __init__(self, countries):\n",
    "        self.countries = []\n",
    "        for country in countries:\n",
    "            print \"Adding: %s\" % country.name\n",
    "            self.countries.append(country.name)\n",
    "            #-Set Each Country as an Attribute-#\n",
    "            setattr(self, country.name, country)\n",
    "        #-For Now Take Products from Either Country - Assuming the Same-#\n",
    "        self.products = country.products\n",
    "\n",
    "    def __str__(self):\n",
    "        global_output = self.output\n",
    "        return \"2x2x1 TradeSystem (Wine: %s; Cloth: %s)\" % (global_output)\n",
    "\n",
    "    @property \n",
    "    def output(self):\n",
    "        output = []\n",
    "        for country in self.countries: \n",
    "            output.append(getattr(self, country).output)\n",
    "        q1 = output[0][0] + output[1][0]\n",
    "        q2 = output[0][1] + output[1][1]\n",
    "        return (q1,q2)\n",
    "    \n",
    "    @property\n",
    "    def comparative_advantage(self):\n",
    "        countries = sorted(self.countries)\n",
    "        ex1 = getattr(self, countries[0]).exchange_rate    #Exchange Rate = Wine / Cloth\n",
    "        ex2 = getattr(self, countries[1]).exchange_rate\n",
    "        if ex1 > ex2:\n",
    "            print \"%s has a Comparative Advantage in %s\" % (countries[0], self.products[1])\n",
    "            print \"%s has a Comparative Advantage in %s\" % (countries[1], self.products[0])\n",
    "        else:\n",
    "            print \"%s has a Comparative Advantage in %s\" % (countries[1], self.products[0])\n",
    "            print \"%s has a Comparative Advantage in %s\" % (countries[0], self.products[1])"
   ]
  },
  {
   "cell_type": "markdown",
   "metadata": {},
   "source": [
    "Scenario 2: Reallocation that is in line with Comparative Advantage\n",
    "---------------------------------------------------------------\n",
    "\n",
    "Reallocating production nationally can produce global gains as long as countries trade in line with their comparative advantage.\n"
   ]
  },
  {
   "cell_type": "code",
   "execution_count": 100,
   "metadata": {
    "collapsed": false
   },
   "outputs": [
    {
     "name": "stdout",
     "output_type": "stream",
     "text": [
      "Adding: England\n",
      "Adding: Portugal\n"
     ]
    }
   ],
   "source": [
    "#-Define a System-#\n",
    "england = Country(name=\"England\", products=('Wine', 'Cloth'), technology=(120, 100))\n",
    "portugal = Country(name=\"Portugal\", products=('Wine', 'Cloth'), technology=(80, 90))\n",
    "system = TradeSystem2x2x1(countries=[england, portugal])"
   ]
  },
  {
   "cell_type": "markdown",
   "metadata": {},
   "source": [
    "Let us assume that England and Portugal coordinate and decide to keep the global production of cloth fixed. \n",
    "\n",
    "  - England increases production of Cloth by 6 (Foregoing 5 units of Wine), while\n",
    "  - Portugal decrease production of Cloth by 6 (Increasing the production of wine by 6.75 units)\n",
    "\n",
    "Now both the `england` object and `portugal` object have been added to the `TradeSystem` object called `system`."
   ]
  },
  {
   "cell_type": "code",
   "execution_count": 101,
   "metadata": {
    "collapsed": false
   },
   "outputs": [
    {
     "name": "stdout",
     "output_type": "stream",
     "text": [
      "England: Wine = -5.0; Cloth = 6\n",
      "Portugal: Wine = 6.75; Cloth = -6\n",
      "2x2x1 TradeSystem (Wine: 1.75; Cloth: 0)\n"
     ]
    }
   ],
   "source": [
    "england.difference_output(1,6)\n",
    "england.print_output\n",
    "portugal.difference_output(1,-6)\n",
    "portugal.print_output\n",
    "print system"
   ]
  },
  {
   "cell_type": "markdown",
   "metadata": {},
   "source": [
    "If England decides to **increase** their production of cloth, while portugal decides to **decrease** their production of cloth by the same amount; then global production of wine **increases on net** between the two by 1.75 units. More of Good `1` (Wine) is now available globally. Therefore, England can provide cloth in exchange for wine and both countries could achieve a better outcome. This reoganization of production under general equilbrium is what underlies the **theory of comparative advantage**"
   ]
  },
  {
   "cell_type": "code",
   "execution_count": 102,
   "metadata": {
    "collapsed": false
   },
   "outputs": [
    {
     "name": "stdout",
     "output_type": "stream",
     "text": [
      "England has a Comparative Advantage in Cloth\n",
      "Portugal has a Comparative Advantage in Wine\n"
     ]
    }
   ],
   "source": [
    "system.comparative_advantage"
   ]
  },
  {
   "cell_type": "markdown",
   "metadata": {},
   "source": [
    "Scenario 3: Reallocation that is NOT in line with comparative advantage\n",
    "----------------------------------------------------------------\n",
    "\n",
    "Reallocating production nationally can also produce global losses (**not** inline with Comparative Advantage). \n"
   ]
  },
  {
   "cell_type": "code",
   "execution_count": 103,
   "metadata": {
    "collapsed": false
   },
   "outputs": [
    {
     "name": "stdout",
     "output_type": "stream",
     "text": [
      "Adding: England\n",
      "Adding: Portugal\n"
     ]
    }
   ],
   "source": [
    "#-Define a System-#\n",
    "england = Country(name=\"England\", products=('Wine', 'Cloth'), technology=(120, 100))\n",
    "portugal = Country(name=\"Portugal\", products=('Wine', 'Cloth'), technology=(80, 90))\n",
    "system = TradeSystem2x2x1(countries=[england, portugal])"
   ]
  },
  {
   "cell_type": "markdown",
   "metadata": {},
   "source": [
    "Let us now assume that England and Portugal coordinate and decide to keep the production of cloth fixed but this time take the opposite decisions as in Scenario 2 above.\n",
    "\n",
    "  - England decreases production of Cloth by 6 (Increase the production of wine by 5 units of Wine)\n",
    "  - Portugal increases production of Cloth by 6 (Decrease the production of wine by 6.75 units)"
   ]
  },
  {
   "cell_type": "code",
   "execution_count": 104,
   "metadata": {
    "collapsed": false
   },
   "outputs": [
    {
     "name": "stdout",
     "output_type": "stream",
     "text": [
      "England: Wine = 5.0; Cloth = -6\n",
      "Portugal: Wine = -6.75; Cloth = 6\n",
      "2x2x1 TradeSystem (Wine: -1.75; Cloth: 0)\n"
     ]
    }
   ],
   "source": [
    "england.difference_output(1,-6)\n",
    "england.print_output\n",
    "portugal.difference_output(1, 6)\n",
    "portugal.print_output\n",
    "print system"
   ]
  },
  {
   "cell_type": "markdown",
   "metadata": {},
   "source": [
    "If England decides to **decrease** their production of cloth, while portugal decides to **increase** their production of cloth by the same amount; then global production of wine **decreases on net** between the two by 1.75 units. In this case, countries are **not** trading inline with comparative advantage and therefore the global trading system experiences losses in global output.  "
   ]
  },
  {
   "cell_type": "markdown",
   "metadata": {},
   "source": [
    "Scenario 4: Check a change in Ratio's\n",
    "--------------------------------------\n",
    "\n",
    "You may think it is because Englands' internal **opportunity cost** is larger than 1 while Portugals' **opportunity cost** is less than 1. This intuition is not right. It is the global reoganisation of production which produces the gains and therefore the relative opportunity costs are what determine comparative advantage. \n",
    "\n",
    "As long as:\n",
    "\n",
    "${EX}_{England} > {EX}_{Portugal}$\n",
    "\n",
    "where\n",
    "\n",
    "$EX_{England} = \\frac{EnglandProductivity_{wine}}{EnglandProductivity_{cloth}}$\n",
    "\n",
    "$EX_{Portugal} = \\frac{PortugalProductivity_{wine}}{PortugalProductivity_{cloth}}$\n",
    "\n",
    "then England has a **comparative advantage** in the production of cloth, and Portugal has a **comparative advantage** in the production of wine. Let us consider a scenario where England has an **absolute advantage** in the production of both products. "
   ]
  },
  {
   "cell_type": "code",
   "execution_count": 111,
   "metadata": {
    "collapsed": false
   },
   "outputs": [
    {
     "name": "stdout",
     "output_type": "stream",
     "text": [
      "Adding: England\n",
      "Adding: Portugal\n"
     ]
    }
   ],
   "source": [
    "#-Define a System-#\n",
    "england = Country(name=\"England\", products=('Wine', 'Cloth'), technology=(120, 100))\n",
    "portugal = Country(name=\"Portugal\", products=('Wine', 'Cloth'), technology=(90, 80))\n",
    "system = TradeSystem2x2x1(countries=[england, portugal])"
   ]
  },
  {
   "cell_type": "code",
   "execution_count": 112,
   "metadata": {
    "collapsed": false
   },
   "outputs": [
    {
     "name": "stdout",
     "output_type": "stream",
     "text": [
      "England: Wine = -5.0; Cloth = 6\n",
      "Portugal: Wine = 5.33333333333; Cloth = -6\n",
      "2x2x1 TradeSystem (Wine: 0.333333333333; Cloth: 0)\n"
     ]
    }
   ],
   "source": [
    "england.difference_output(1,6)\n",
    "england.print_output\n",
    "portugal.difference_output(1,-6)\n",
    "portugal.print_output\n",
    "print system"
   ]
  },
  {
   "cell_type": "code",
   "execution_count": 113,
   "metadata": {
    "collapsed": false
   },
   "outputs": [
    {
     "name": "stdout",
     "output_type": "stream",
     "text": [
      "England has a Comparative Advantage in Cloth\n",
      "Portugal has a Comparative Advantage in Wine\n"
     ]
    }
   ],
   "source": [
    "system.comparative_advantage"
   ]
  },
  {
   "cell_type": "code",
   "execution_count": 114,
   "metadata": {
    "collapsed": false
   },
   "outputs": [
    {
     "data": {
      "text/plain": [
       "1.2"
      ]
     },
     "execution_count": 114,
     "metadata": {},
     "output_type": "execute_result"
    }
   ],
   "source": [
    "england.exchange_rate"
   ]
  },
  {
   "cell_type": "code",
   "execution_count": 115,
   "metadata": {
    "collapsed": false
   },
   "outputs": [
    {
     "data": {
      "text/plain": [
       "1.125"
      ]
     },
     "execution_count": 115,
     "metadata": {},
     "output_type": "execute_result"
    }
   ],
   "source": [
    "portugal.exchange_rate"
   ]
  },
  {
   "cell_type": "markdown",
   "metadata": {},
   "source": [
    "The fundamental driving force in Ricardian models is differences in technology (or productivity). However the only condition for trade to occur is a difference in **relative opportunity cost** and gains from trade can be aquired even when the trading partner has better technology in both goods (i.e. has an absolute advantage) relative to another. \n",
    "\n",
    "Of course the trivial case is when both countries have identical internal opportunity costs and therefore there are no motivations driving trade. Other models incorporating Increasing Returns to Scale (IRS) however can motivate trade without these fundamental differences in technology. "
   ]
  },
  {
   "cell_type": "markdown",
   "metadata": {},
   "source": [
    "The direction, or pattern, of trade which is determined by **comparative advantage** ensures improvements in global output and provides a powerful underlying force in shapping global trade. More advanced models of trade incorporate features that allow for the investigations in many diferrent considerations including but not limited to:\n",
    "\n",
    "  - Distributional Gians from Trade\n",
    "  - Unequal country sizes and their effects on markets\n",
    "  - Imperfect Markets\n",
    "  - ... \n",
    "  \n",
    "Let us improve on this analysis by considering a resource constraint (Labour Supply). "
   ]
  },
  {
   "cell_type": "markdown",
   "metadata": {},
   "source": [
    "Extension 1: Add Labour Endowments to Economies\n",
    "===============================================\n",
    "\n",
    "We can alter this model by updating the `Country` class to include endowments of Labour (which imposes a resource constraint) allowing for a more full characterisations of a Country. We can then adapt the `TradeSystem2x2x1` class to incorporate optimal trade solutions which maximise global trade (both through an analytical solution and a numerical search based solution)\n"
   ]
  },
  {
   "cell_type": "code",
   "execution_count": 212,
   "metadata": {
    "collapsed": false
   },
   "outputs": [],
   "source": [
    "import pandas as pd\n",
    "class Country(object):\n",
    "    \"\"\"\n",
    "    An object that represents a Country\n",
    "\n",
    "    Parameters\n",
    "    ----------\n",
    "    name            :   str\n",
    "                        Provide a country name\n",
    "    products        :   Tuple(str, str)\n",
    "                        Provide Product Names\n",
    "    technology      :   Tuple(float, float)\n",
    "                        Provide Technology/Productivity values where position equals product position\n",
    "    labour_endowment:   int or float\n",
    "                        Provide Labour Endowment (Hours, Days etc)\n",
    "    \"\"\"\n",
    "    def __init__(self, name, products, technology, labour_endowment):\n",
    "        self.name = name\n",
    "        self.products = products\n",
    "        self.technology = technology\n",
    "        self.exchange_rate = self.technology[0] / self.technology[1]\n",
    "        self.labour = labour_endowment\n",
    "        #-Internal State Variables-#\n",
    "        self.__output = (0,0)\n",
    "        \n",
    "    def __str__(self):\n",
    "        try:\n",
    "            units = self.units\n",
    "        except:\n",
    "            units = (\"Unit of %s\"%self.products[0], \"Unit of %s\"%self.products[1])\n",
    "            self.units = units\n",
    "        return \"%s (%s - %s (Units of Labour/%s); %s - %s (Units of Labour/%s))\" % (self.name, self.products[0], self.technology[0], units[0], self.products[1], self.technology[1], units[1])\n",
    "\n",
    "    @property\n",
    "    def output(self):\n",
    "        return self.__output\n",
    "    @output.setter\n",
    "    def output(self, value):\n",
    "        labour_requirement = value[0]/self.technology[0] + value[1]/self.technology[1]\n",
    "        if labour_requirement != self.labour:\n",
    "            assert ValueError(\"%s is not equal to %s (Labour Endowment)\"%(labour_requirement, self.labour))\n",
    "        self.__output = value\n",
    "    \n",
    "    @property\n",
    "    def print_output(self):\n",
    "        print \"%s: %s = %s; %s = %s\" % (self.name, self.products[0], self.__output[0], self.products[1], self.__output[1])\n",
    "    \n",
    "    def set_units(self, units):\n",
    "        \"\"\" \n",
    "        Set Units of Products\n",
    "        \n",
    "        Parameters\n",
    "        ----------\n",
    "        units  :  tuple(str, str)\n",
    "                  Set Units of Product 1 and Product 2\n",
    "        \"\"\"\n",
    "        self.units = units\n",
    "        \n",
    "    def difference_output(self, product, difference):\n",
    "        \"\"\" \n",
    "        Provide a difference to the output of a given product\n",
    "        \n",
    "        Parameters\n",
    "        ----------\n",
    "        product      :  int\n",
    "                        Provide Product ID 0, 1\n",
    "        difference   :  numeric\n",
    "                        Provide Difference in Output for the Product\n",
    "\n",
    "        \"\"\" \n",
    "        if product == 0:\n",
    "            q0 = self.__output[0] + difference\n",
    "            q1 = self.__output[1] + -1 * difference * self.exchange_rate\n",
    "            self.__output = (q0, q1)\n",
    "        if product == 1:\n",
    "            q0 = self.__output[0] + -1 * difference * 1 / self.exchange_rate\n",
    "            q1 = self.__output[1] + difference\n",
    "            self.__output = (q0, q1)\n",
    "    \n",
    "    def PPF(self, unit_change=1, return_data=False):\n",
    "        \"\"\" Produce Production Possibility Frontier \"\"\"\n",
    "        idx = []\n",
    "        output = []\n",
    "        for labour_good0 in xrange(0,self.labour+1,unit_change):\n",
    "            idx.append(labour_good0)\n",
    "            output.append((labour_good0/self.technology[0], self.labour/self.technology[1] - self.exchange_rate * (labour_good0 / self.technology[0])))\n",
    "        df = pd.DataFrame(output, index=idx)\n",
    "        df.columns = [self.products[0], self.products[1]]\n",
    "        df.name = \"PPF-%s\"%self.name\n",
    "        #-Graph-#\n",
    "        maximum = df.max()\n",
    "        if maximum[self.products[0]] > maximum[self.products[1]]:\n",
    "            x_ticks = sorted(df[self.products[0]].values)\n",
    "            y_ticks = x_ticks\n",
    "        else:\n",
    "            x_ticks = sorted(df[self.products[1]].values)\n",
    "            y_ticks = x_ticks\n",
    "        ax = df.plot(x=self.products[0], y=self.products[1], title=\"%s PPF\"%self.name, legend=False, xticks=x_ticks, yticks=y_ticks)\n",
    "        ax.set_ylabel(self.products[1])\n",
    "        if return_data:\n",
    "            return ax ,df\n",
    "        else:\n",
    "            return ax\n",
    "            "
   ]
  },
  {
   "cell_type": "code",
   "execution_count": 253,
   "metadata": {
    "collapsed": false
   },
   "outputs": [],
   "source": [
    "england = Country(name=\"England\", products=('Wine', 'Cloth'), technology=(120, 100), labour_endowment=1000)\n",
    "portugal = Country(name=\"Portugal\", products=('Wine', 'Cloth'), technology=(80, 90), labour_endowment=1000)\n",
    "\n",
    "# england = Country(name=\"England\", products=('Wine', 'Cloth'), technology=(120, 100), labour_endowment=1000)\n",
    "# portugal = Country(name=\"Portugal\", products=('Wine', 'Cloth'), technology=(90, 80), labour_endowment=1000)"
   ]
  },
  {
   "cell_type": "code",
   "execution_count": 257,
   "metadata": {
    "collapsed": false
   },
   "outputs": [
    {
     "data": {
      "image/png": "[encoded data removed]",
      "text/plain": [
       "<matplotlib.figure.Figure at 0x117bcc110>"
      ]
     },
     "metadata": {},
     "output_type": "display_data"
    }
   ],
   "source": [
    "%matplotlib inline\n",
    "ax, d1 = england.PPF(unit_change=100, return_data=True)"
   ]
  },
  {
   "cell_type": "code",
   "execution_count": 258,
   "metadata": {
    "collapsed": false
   },
   "outputs": [
    {
     "data": {
      "image/png": "[encoded data removed]",
      "text/plain": [
       "<matplotlib.figure.Figure at 0x11997c310>"
      ]
     },
     "metadata": {},
     "output_type": "display_data"
    }
   ],
   "source": [
    "%matplotlib inline\n",
    "ax, d2 = portugal.PPF(unit_change=100, return_data=True)"
   ]
  },
  {
   "cell_type": "code",
   "execution_count": 262,
   "metadata": {
    "collapsed": false
   },
   "outputs": [
    {
     "data": {
      "image/png": "[encoded data removed]",
      "text/plain": [
       "<matplotlib.figure.Figure at 0x124b92310>"
      ]
     },
     "metadata": {},
     "output_type": "display_data"
    }
   ],
   "source": [
    "import matplotlib.pyplot as plt\n",
    "d3a = pd.DataFrame()\n",
    "d3a[\"Cloth\"] = d2[\"Cloth\"]+10\n",
    "d3a[\"Wine\"] = d2[\"Wine\"]\n",
    "d3b = pd.DataFrame()\n",
    "d3b[\"Cloth\"] = d1[\"Cloth\"]\n",
    "d3b[\"Wine\"] = d1[\"Wine\"]+12.5\n",
    "d3 = d3a.append(d3b) \n",
    "plt.plot(d1.values[:,0], d1.values[:,1], d2.values[:,0], d2.values[:,1], d3.values[:,0], d3.values[:,1])\n",
    "plt.axis([0,24,0,23])\n",
    "plt.show()"
   ]
  },
  {
   "cell_type": "code",
   "execution_count": 234,
   "metadata": {
    "collapsed": false
   },
   "outputs": [
    {
     "data": {
      "text/html": [
       "<div style=\"max-height:1000px;max-width:1500px;overflow:auto;\">\n",
       "<table border=\"1\" class=\"dataframe\">\n",
       "  <thead>\n",
       "    <tr style=\"text-align: right;\">\n",
       "      <th></th>\n",
       "      <th>Wine</th>\n",
       "      <th>Cloth</th>\n",
       "    </tr>\n",
       "  </thead>\n",
       "  <tbody>\n",
       "    <tr>\n",
       "      <th>0   </th>\n",
       "      <td> 10.00</td>\n",
       "      <td> 22.5</td>\n",
       "    </tr>\n",
       "    <tr>\n",
       "      <th>100 </th>\n",
       "      <td> 11.25</td>\n",
       "      <td> 21.5</td>\n",
       "    </tr>\n",
       "    <tr>\n",
       "      <th>200 </th>\n",
       "      <td> 12.50</td>\n",
       "      <td> 20.5</td>\n",
       "    </tr>\n",
       "    <tr>\n",
       "      <th>300 </th>\n",
       "      <td> 13.75</td>\n",
       "      <td> 19.5</td>\n",
       "    </tr>\n",
       "    <tr>\n",
       "      <th>400 </th>\n",
       "      <td> 15.00</td>\n",
       "      <td> 18.5</td>\n",
       "    </tr>\n",
       "    <tr>\n",
       "      <th>500 </th>\n",
       "      <td> 16.25</td>\n",
       "      <td> 17.5</td>\n",
       "    </tr>\n",
       "    <tr>\n",
       "      <th>600 </th>\n",
       "      <td> 17.50</td>\n",
       "      <td> 16.5</td>\n",
       "    </tr>\n",
       "    <tr>\n",
       "      <th>700 </th>\n",
       "      <td> 18.75</td>\n",
       "      <td> 15.5</td>\n",
       "    </tr>\n",
       "    <tr>\n",
       "      <th>800 </th>\n",
       "      <td> 20.00</td>\n",
       "      <td> 14.5</td>\n",
       "    </tr>\n",
       "    <tr>\n",
       "      <th>900 </th>\n",
       "      <td> 21.25</td>\n",
       "      <td> 13.5</td>\n",
       "    </tr>\n",
       "    <tr>\n",
       "      <th>1000</th>\n",
       "      <td> 22.50</td>\n",
       "      <td> 12.5</td>\n",
       "    </tr>\n",
       "  </tbody>\n",
       "</table>\n",
       "</div>"
      ],
      "text/plain": [
       "       Wine  Cloth\n",
       "0     10.00   22.5\n",
       "100   11.25   21.5\n",
       "200   12.50   20.5\n",
       "300   13.75   19.5\n",
       "400   15.00   18.5\n",
       "500   16.25   17.5\n",
       "600   17.50   16.5\n",
       "700   18.75   15.5\n",
       "800   20.00   14.5\n",
       "900   21.25   13.5\n",
       "1000  22.50   12.5"
      ]
     },
     "execution_count": 234,
     "metadata": {},
     "output_type": "execute_result"
    }
   ],
   "source": [
    "d3"
   ]
  },
  {
   "cell_type": "markdown",
   "metadata": {},
   "source": [
    "The Ricardian Model\n",
    "===================\n",
    "\n",
    "The Ricardian model describes a static equilibrium and therefore assumes that the supply of resources in the economy is inelastic and that tastes and technology do not change. \n",
    "\n",
    "Assumptions\n",
    "-----------\n",
    "\n",
    "  - Two Countries (\"Home\" and \"Foreign\" denoted with *)\n",
    "  - Two Final Products (Good 1 and Good 2)\n",
    "  - Each Good uses Labour as the only factor in production. Labour is homogenous in quality and capability. \n",
    "  - Labour is inelastically supplied in each country\n",
    "  - Labour is perfectly mobile within countries but not between countries\n",
    "  - Constant Labour requirements per unit of output ($a_j$ and $a_j^*$). Constant Returns to Scale\n",
    "  - Technologies differ between countries ($a_j \\ne a_j^*$ where $j=1,2$)\n",
    "  - No transportation costs, No Trade Barriers, Free Trade\n",
    "  - Competative factor and product markets\n",
    "  \n",
    "Supply Side (Production)\n",
    "------------------------\n",
    "\n",
    "Define relative price $p=\\frac{p_2}{p_1}$ of the second good in terms of the first. Let the production function of the jth industry be $q_j = \\frac{1}{a_j}L_j$ where {j=1,2}. \n",
    "\n",
    "\n",
    "Demand Side (Tastes and Preferences)\n",
    "------------------------------------"
   ]
  },
  {
   "cell_type": "code",
   "execution_count": null,
   "metadata": {
    "collapsed": false
   },
   "outputs": [],
   "source": []
  },
  {
   "cell_type": "markdown",
   "metadata": {},
   "source": [
    "Extensions\n",
    "==========\n",
    "\n",
    "Eaton, Kortum (2002) - EK Model with Many Countries and Many Products"
   ]
  },
  {
   "cell_type": "code",
   "execution_count": null,
   "metadata": {
    "collapsed": false
   },
   "outputs": [],
   "source": []
  }
 ],
 "metadata": {
  "kernelspec": {
   "display_name": "Python 2",
   "language": "python",
   "name": "python2"
  },
  "language_info": {
   "codemirror_mode": {
    "name": "ipython",
    "version": 2
   },
   "file_extension": ".py",
   "mimetype": "text/x-python",
   "name": "python",
   "nbconvert_exporter": "python",
   "pygments_lexer": "ipython2",
   "version": "2.7.9"
  }
 },
 "nbformat": 4,
 "nbformat_minor": 0
}
